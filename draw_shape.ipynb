{
 "cells": [
  {
   "cell_type": "markdown",
   "metadata": {},
   "source": [
    "## 도형 그리기"
   ]
  },
  {
   "cell_type": "code",
   "execution_count": null,
   "metadata": {},
   "outputs": [],
   "source": []
  },
  {
   "cell_type": "code",
   "execution_count": 13,
   "metadata": {},
   "outputs": [
    {
     "name": "stdout",
     "output_type": "stream",
     "text": [
      "몇각형 그려줘 >>> 5\n"
     ]
    }
   ],
   "source": [
    "num = int(input('몇각형 그려줘 >>> '))\n",
    "\n",
    "import turtle as t\n",
    "t.shape('turtle')\n",
    "t.pensize(3)\n",
    "t.bgcolor('black')\n",
    "t.color('white','red')\n",
    "t.speed(10)\n",
    "begin_fill()\n",
    "for i in range(num) :\n",
    "    for j in range(num) :\n",
    "        for k in range(num) :\n",
    "            t.fd(200/(num/2))\n",
    "            t.rt(360/num)\n",
    "        t.fd(200/(num/2))\n",
    "        t.lt(360/num)\n",
    "    t.lt(360/num)\n",
    "end_fill()\n",
    "t.exitonclick()"
   ]
  },
  {
   "cell_type": "code",
   "execution_count": null,
   "metadata": {},
   "outputs": [],
   "source": []
  }
 ],
 "metadata": {
  "kernelspec": {
   "display_name": "Python 3",
   "language": "python",
   "name": "python3"
  },
  "language_info": {
   "codemirror_mode": {
    "name": "ipython",
    "version": 3
   },
   "file_extension": ".py",
   "mimetype": "text/x-python",
   "name": "python",
   "nbconvert_exporter": "python",
   "pygments_lexer": "ipython3",
   "version": "3.7.4"
  }
 },
 "nbformat": 4,
 "nbformat_minor": 2
}
